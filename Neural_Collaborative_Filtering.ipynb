{
  "nbformat": 4,
  "nbformat_minor": 0,
  "metadata": {
    "colab": {
      "provenance": []
    },
    "kernelspec": {
      "name": "python3",
      "display_name": "Python 3"
    },
    "language_info": {
      "name": "python"
    }
  },
  "cells": [
    {
      "cell_type": "code",
      "execution_count": null,
      "metadata": {
        "id": "DPei0RQM6_JX"
      },
      "outputs": [],
      "source": [
        "import pandas as pd\n",
        "import numpy as np\n",
        "import tensorflow as tf\n",
        "from tensorflow.keras.models import Model\n",
        "from tensorflow.keras.layers import Input, Dense, Embedding, Flatten, Concatenate, Dropout\n",
        "from tensorflow.keras.optimizers import Adam\n",
        "from sklearn.preprocessing import LabelEncoder"
      ]
    },
    {
      "cell_type": "code",
      "source": [
        "! unzip /content/train_triplets.txt"
      ],
      "metadata": {
        "colab": {
          "base_uri": "https://localhost:8080/"
        },
        "id": "imvrUYD_7PwL",
        "outputId": "73ed16ad-baeb-4e58-adc1-cc639e5eacb9"
      },
      "execution_count": null,
      "outputs": [
        {
          "output_type": "stream",
          "name": "stdout",
          "text": [
            "unzip:  cannot find or open /content/train_triplets.txt, /content/train_triplets.txt.zip or /content/train_triplets.txt.ZIP.\n"
          ]
        }
      ]
    },
    {
      "cell_type": "code",
      "source": [
        "from google.colab import drive\n",
        "drive.mount('/content/drive')"
      ],
      "metadata": {
        "colab": {
          "base_uri": "https://localhost:8080/"
        },
        "id": "uSLucl-LugZF",
        "outputId": "36264dbf-f4a5-441b-e154-f904509e0e5b"
      },
      "execution_count": null,
      "outputs": [
        {
          "output_type": "stream",
          "name": "stdout",
          "text": [
            "Mounted at /content/drive\n"
          ]
        }
      ]
    },
    {
      "cell_type": "code",
      "source": [
        "data_df = pd.read_csv('/content/drive/MyDrive/train_triplets.txt', sep='\\t', names=['user_id', 'song_id', 'listen_count'])"
      ],
      "metadata": {
        "id": "EKzK9Ko98aSo"
      },
      "execution_count": null,
      "outputs": []
    },
    {
      "cell_type": "code",
      "source": [
        "# Limit the number of users and songs to make training faster\n",
        "num_users = 10000\n",
        "num_songs = 5000\n",
        "data_df = data_df[data_df['user_id'].isin(data_df['user_id'].value_counts().index[:num_users])]\n",
        "data_df = data_df[data_df['song_id'].isin(data_df['song_id'].value_counts().index[:num_songs])]"
      ],
      "metadata": {
        "id": "I4EHvEsW_xC7"
      },
      "execution_count": null,
      "outputs": []
    },
    {
      "cell_type": "code",
      "source": [
        "# Label encode the user and song IDs\n",
        "user_encoder = LabelEncoder()\n",
        "user_encoder.fit(data_df['user_id'])\n",
        "data_df['user_id'] = user_encoder.transform(data_df['user_id'])\n",
        "song_encoder = LabelEncoder()\n",
        "song_encoder.fit(data_df['song_id'])\n",
        "data_df['song_id'] = song_encoder.transform(data_df['song_id'])"
      ],
      "metadata": {
        "id": "CAkYw9mf_xPI"
      },
      "execution_count": null,
      "outputs": []
    },
    {
      "cell_type": "code",
      "source": [
        "# Split the data into training and test sets\n",
        "train_df = data_df.sample(frac=0.8, random_state=42)\n",
        "test_df = data_df.drop(train_df.index)"
      ],
      "metadata": {
        "id": "LCCwpoesAHsA"
      },
      "execution_count": null,
      "outputs": []
    },
    {
      "cell_type": "code",
      "source": [
        "# Define the embedding dimension\n",
        "embedding_dim = 32"
      ],
      "metadata": {
        "id": "XJw80LJKAMi0"
      },
      "execution_count": null,
      "outputs": []
    },
    {
      "cell_type": "code",
      "source": [
        "# Define the user and song input layers\n",
        "user_input = Input(shape=(1,))\n",
        "song_input = Input(shape=(1,))"
      ],
      "metadata": {
        "id": "pHS_VSJIAOoH"
      },
      "execution_count": null,
      "outputs": []
    },
    {
      "cell_type": "code",
      "source": [
        "# Define the user and song embedding layers\n",
        "user_embedding = Embedding(input_dim=num_users, output_dim=embedding_dim)(user_input)\n",
        "user_embedding = Flatten()(user_embedding)\n",
        "song_embedding = Embedding(input_dim=num_songs, output_dim=embedding_dim)(song_input)\n",
        "song_embedding = Flatten()(song_embedding)"
      ],
      "metadata": {
        "id": "99hrTUDOAOrv"
      },
      "execution_count": null,
      "outputs": []
    },
    {
      "cell_type": "code",
      "source": [
        "# Concatenate the user and song embeddings\n",
        "concatenated = Concatenate()([user_embedding, song_embedding])"
      ],
      "metadata": {
        "id": "yAsPX0IcAUWD"
      },
      "execution_count": null,
      "outputs": []
    },
    {
      "cell_type": "code",
      "source": [
        "# Add dropout to prevent overfitting\n",
        "concatenated = Dropout(0.5)(concatenated)\n",
        "\n",
        "# Define the dense layers\n",
        "dense1 = Dense(128, activation='relu')(concatenated)\n",
        "dense2 = Dense(64, activation='relu')(dense1)\n",
        "dense3 = Dense(32, activation='relu')(dense2)"
      ],
      "metadata": {
        "id": "0vJBBTPxAUZm"
      },
      "execution_count": null,
      "outputs": []
    },
    {
      "cell_type": "code",
      "source": [
        "# Define the output layer\n",
        "output_layer = Dense(1)(dense3)"
      ],
      "metadata": {
        "id": "knhGB3v3AZN1"
      },
      "execution_count": null,
      "outputs": []
    },
    {
      "cell_type": "code",
      "source": [
        "# Define the model\n",
        "model = Model(inputs=[user_input, song_input], outputs=output_layer)"
      ],
      "metadata": {
        "id": "Uu_7NMrxAbe-"
      },
      "execution_count": null,
      "outputs": []
    },
    {
      "cell_type": "code",
      "source": [
        "# Compile the model\n",
        "model.compile(optimizer=Adam(lr=0.001), loss='mean_squared_error')"
      ],
      "metadata": {
        "colab": {
          "base_uri": "https://localhost:8080/"
        },
        "id": "AN9ujvCjAeFe",
        "outputId": "240f48cb-fcfa-4a13-fa1b-547b9c5f0803"
      },
      "execution_count": null,
      "outputs": [
        {
          "output_type": "stream",
          "name": "stderr",
          "text": [
            "WARNING:absl:`lr` is deprecated in Keras optimizer, please use `learning_rate` or use the legacy optimizer, e.g.,tf.keras.optimizers.legacy.Adam.\n"
          ]
        }
      ]
    },
    {
      "cell_type": "code",
      "source": [
        "# Train the model\n",
        "model.fit([train_df['user_id'], train_df['song_id']], train_df['listen_count'], batch_size=128, epochs=10, verbose=1)"
      ],
      "metadata": {
        "colab": {
          "base_uri": "https://localhost:8080/"
        },
        "id": "K6aXyyTWAeIK",
        "outputId": "053f39a4-cefa-44a1-e333-948230381f3d"
      },
      "execution_count": null,
      "outputs": [
        {
          "output_type": "stream",
          "name": "stdout",
          "text": [
            "Epoch 1/10\n",
            "9124/9124 [==============================] - 96s 10ms/step - loss: 17.5119\n",
            "Epoch 2/10\n",
            "9124/9124 [==============================] - 92s 10ms/step - loss: 17.1144\n",
            "Epoch 3/10\n",
            "9124/9124 [==============================] - 98s 11ms/step - loss: 16.9420\n",
            "Epoch 4/10\n",
            "9124/9124 [==============================] - 103s 11ms/step - loss: 16.8497\n",
            "Epoch 5/10\n",
            "9124/9124 [==============================] - 91s 10ms/step - loss: 16.7553\n",
            "Epoch 6/10\n",
            "9124/9124 [==============================] - 94s 10ms/step - loss: 16.6566\n",
            "Epoch 7/10\n",
            "9124/9124 [==============================] - 91s 10ms/step - loss: 16.6567\n",
            "Epoch 8/10\n",
            "9124/9124 [==============================] - 93s 10ms/step - loss: 16.5724\n",
            "Epoch 9/10\n",
            "9124/9124 [==============================] - 91s 10ms/step - loss: 16.5677\n",
            "Epoch 10/10\n",
            "9124/9124 [==============================] - 93s 10ms/step - loss: 16.5419\n"
          ]
        },
        {
          "output_type": "execute_result",
          "data": {
            "text/plain": [
              "<keras.callbacks.History at 0x7f966bf2bf70>"
            ]
          },
          "metadata": {},
          "execution_count": 84
        }
      ]
    },
    {
      "cell_type": "code",
      "source": [
        "# Save your model\n",
        "import pickle\n",
        "with open('ncf.pickle', 'wb') as f:\n",
        "    pickle.dump(model, f)\n"
      ],
      "metadata": {
        "id": "x3aCSWXzvaXi"
      },
      "execution_count": null,
      "outputs": []
    },
    {
      "cell_type": "code",
      "source": [
        "with open('ncf.pickle', 'rb') as f:\n",
        "  model = pickle.load(f)"
      ],
      "metadata": {
        "id": "deRyahEFq5_L"
      },
      "execution_count": null,
      "outputs": []
    },
    {
      "cell_type": "code",
      "source": [
        "# Evaluate the model on the test set\n",
        "score = model.evaluate([test_df['user_id'], test_df['song_id']], test_df['listen_count'], verbose=0)\n",
        "print('Test loss:', score)"
      ],
      "metadata": {
        "colab": {
          "base_uri": "https://localhost:8080/"
        },
        "id": "xudi_p1XAeLq",
        "outputId": "43f77da5-088c-481b-dda3-1d18670ab749"
      },
      "execution_count": null,
      "outputs": [
        {
          "output_type": "stream",
          "name": "stdout",
          "text": [
            "Test loss: 16.444597244262695\n"
          ]
        }
      ]
    },
    {
      "cell_type": "code",
      "source": [
        "# Make predictions on the test set\n",
        "y_pred = model.predict([test_df['user_id'], test_df['song_id']])\n",
        "y_true = test_df['listen_count'].values\n",
        "\n"
      ],
      "metadata": {
        "colab": {
          "base_uri": "https://localhost:8080/"
        },
        "id": "kKs2LTDJhLqW",
        "outputId": "297604cf-6c45-4004-9368-f9fdbb33cc50"
      },
      "execution_count": null,
      "outputs": [
        {
          "output_type": "stream",
          "name": "stdout",
          "text": [
            "9124/9124 [==============================] - 20s 2ms/step\n"
          ]
        }
      ]
    },
    {
      "cell_type": "code",
      "source": [
        "y_pred.flatten()"
      ],
      "metadata": {
        "colab": {
          "base_uri": "https://localhost:8080/"
        },
        "id": "Svxx8oY8jg6D",
        "outputId": "44bc4cbe-101a-4696-b7a0-0a543308f0a8"
      },
      "execution_count": null,
      "outputs": [
        {
          "output_type": "execute_result",
          "data": {
            "text/plain": [
              "array([4.614843 , 2.7762396, 3.104034 , ..., 2.334949 , 2.635333 ,\n",
              "       2.153445 ], dtype=float32)"
            ]
          },
          "metadata": {},
          "execution_count": 18
        }
      ]
    },
    {
      "cell_type": "code",
      "source": [
        "y_true"
      ],
      "metadata": {
        "colab": {
          "base_uri": "https://localhost:8080/"
        },
        "id": "0fd1oZDYjjcn",
        "outputId": "1e4130b6-c978-4f2e-ca2c-b333236a68fd"
      },
      "execution_count": null,
      "outputs": [
        {
          "output_type": "execute_result",
          "data": {
            "text/plain": [
              "array([7, 3, 5, ..., 1, 1, 4])"
            ]
          },
          "metadata": {},
          "execution_count": 174
        }
      ]
    },
    {
      "cell_type": "code",
      "source": [
        "from sklearn.metrics import mean_squared_error\n",
        "\n",
        "rmse = mean_squared_error(y_true, y_pred, squared=False)"
      ],
      "metadata": {
        "id": "Tpk0QPuekuXv"
      },
      "execution_count": null,
      "outputs": []
    },
    {
      "cell_type": "code",
      "source": [
        "rmse"
      ],
      "metadata": {
        "colab": {
          "base_uri": "https://localhost:8080/"
        },
        "id": "NLIM3wcOlW3A",
        "outputId": "d195542c-5218-417b-a926-0b95c1d14815"
      },
      "execution_count": null,
      "outputs": [
        {
          "output_type": "execute_result",
          "data": {
            "text/plain": [
              "4.055185053352839"
            ]
          },
          "metadata": {},
          "execution_count": 121
        }
      ]
    },
    {
      "cell_type": "code",
      "source": [
        "from sklearn.metrics import mean_absolute_error\n",
        "\n",
        "# Assuming y_true and y_pred are the true and predicted values respectively\n",
        "mae = mean_absolute_error(y_true, y_pred)"
      ],
      "metadata": {
        "id": "WdsLZ1ANlgtH"
      },
      "execution_count": null,
      "outputs": []
    },
    {
      "cell_type": "code",
      "source": [
        "mae"
      ],
      "metadata": {
        "colab": {
          "base_uri": "https://localhost:8080/"
        },
        "id": "f-_9ikWQliHV",
        "outputId": "39605782-f3d2-4c65-ac86-cae605a23126"
      },
      "execution_count": null,
      "outputs": [
        {
          "output_type": "execute_result",
          "data": {
            "text/plain": [
              "1.705204609504401"
            ]
          },
          "metadata": {},
          "execution_count": 123
        }
      ]
    },
    {
      "cell_type": "code",
      "source": [
        "import matplotlib.pyplot as plt\n",
        "plt.plot(y_true, label='True values')\n",
        "plt.plot(y_pred, label='Predicted values')\n",
        "plt.xlabel('Data points')\n",
        "plt.ylabel('Target values')\n",
        "plt.title('Line plot of true vs predicted values')\n",
        "plt.legend()\n",
        "plt.show()"
      ],
      "metadata": {
        "colab": {
          "base_uri": "https://localhost:8080/",
          "height": 472
        },
        "id": "ckfMBVg0lqeB",
        "outputId": "3d16a0ca-6d20-4aa8-c2ca-bff72a843310"
      },
      "execution_count": null,
      "outputs": [
        {
          "output_type": "display_data",
          "data": {
            "text/plain": [
              "<Figure size 640x480 with 1 Axes>"
            ],
            "image/png": "[encoded data removed]"
          },
          "metadata": {}
        }
      ]
    },
    {
      "cell_type": "code",
      "source": [
        "user = 3574\n",
        "songs = test_df.loc[test_df['user_id'] == user]['song_id'].unique()\n",
        "preference_scores = model.predict([np.full(len(songs), user), songs])\n",
        "song_scores = list(zip(songs, preference_scores.flatten()))\n",
        "sorted_song_scores = sorted(song_scores, key=lambda x: x[1], reverse=True)\n",
        "top_songs = [song for song, score in sorted_song_scores[:10]]\n",
        "\n",
        "print(\"Top 10 recommendations for user 3574:\")\n",
        "for i, song in enumerate(top_songs):\n",
        "    print(f\"{i+1}. {song}\")"
      ],
      "metadata": {
        "colab": {
          "base_uri": "https://localhost:8080/"
        },
        "id": "AesiYUome9ws",
        "outputId": "c8ad2e89-788d-4c86-84b6-706aa4081a58"
      },
      "execution_count": null,
      "outputs": [
        {
          "output_type": "stream",
          "name": "stdout",
          "text": [
            "3/3 [==============================] - 0s 4ms/step\n",
            "Top 10 recommendations for user 3574:\n",
            "1. 1031\n",
            "2. 3144\n",
            "3. 2642\n",
            "4. 3600\n",
            "5. 4363\n",
            "6. 745\n",
            "7. 112\n",
            "8. 963\n",
            "9. 3220\n",
            "10. 2580\n"
          ]
        }
      ]
    },
    {
      "cell_type": "code",
      "source": [
        "# Import libraries\n",
        "import numpy as np\n",
        "import pandas as pd\n",
        "import tensorflow as tf\n",
        "from sklearn.model_selection import train_test_split\n",
        "from sklearn.preprocessing import LabelEncoder, MinMaxScaler"
      ],
      "metadata": {
        "id": "nUNSO5quen10"
      },
      "execution_count": null,
      "outputs": []
    },
    {
      "cell_type": "code",
      "source": [
        "# Load the train_triplets.txt file\n",
        "df = pd.read_csv('/content/drive/MyDrive/train_triplets.txt', sep='\\t', header=None, names=['user_id', 'song_id', 'listen_count'])\n"
      ],
      "metadata": {
        "id": "B-ihm_5QeoHd"
      },
      "execution_count": null,
      "outputs": []
    },
    {
      "cell_type": "code",
      "source": [
        "print(df.head())"
      ],
      "metadata": {
        "colab": {
          "base_uri": "https://localhost:8080/"
        },
        "id": "oJe_EQ38f2i7",
        "outputId": "3f59a32f-0f41-4777-98ff-e4405e18640a"
      },
      "execution_count": null,
      "outputs": [
        {
          "output_type": "stream",
          "name": "stdout",
          "text": [
            "                                    user_id             song_id  listen_count\n",
            "0  b80344d063b5ccb3212f76538f3d9e43d87dca9e  SOAKIMP12A8C130995             1\n",
            "1  b80344d063b5ccb3212f76538f3d9e43d87dca9e  SOAPDEY12A81C210A9             1\n",
            "2  b80344d063b5ccb3212f76538f3d9e43d87dca9e  SOBBMDR12A8C13253B             2\n",
            "3  b80344d063b5ccb3212f76538f3d9e43d87dca9e  SOBFNSP12AF72A0E22             1\n",
            "4  b80344d063b5ccb3212f76538f3d9e43d87dca9e  SOBFOVM12A58A7D494             1\n"
          ]
        }
      ]
    },
    {
      "cell_type": "code",
      "source": [
        "# Convert data types\n",
        "df['user_id'] = df['user_id'].astype('category').cat.codes.values\n",
        "df['song_id'] = df['song_id'].astype('category').cat.codes.values\n"
      ],
      "metadata": {
        "id": "sOpMCnJA1q7L"
      },
      "execution_count": null,
      "outputs": []
    },
    {
      "cell_type": "code",
      "source": [
        "# Create train and validation sets\n",
        "train_data, val_data = train_test_split(df, test_size=0.2, random_state=42)"
      ],
      "metadata": {
        "id": "jCY5xb-u1q-9"
      },
      "execution_count": null,
      "outputs": []
    },
    {
      "cell_type": "code",
      "source": [
        "# Define the number of users, songs, and embedding size\n",
        "num_users = len(df.user_id.unique())\n",
        "num_songs = len(df.song_id.unique())\n",
        "embedding_size = 32"
      ],
      "metadata": {
        "id": "pObVwB_P2GkC"
      },
      "execution_count": null,
      "outputs": []
    },
    {
      "cell_type": "code",
      "source": [
        "# Define the MLP model\n",
        "user_input = tf.keras.layers.Input(shape=(1,))\n",
        "song_input = tf.keras.layers.Input(shape=(1,))"
      ],
      "metadata": {
        "id": "JWwEXAzv2NI0"
      },
      "execution_count": null,
      "outputs": []
    },
    {
      "cell_type": "code",
      "source": [
        "# Concatenate the input embeddings\n",
        "input_embeddings = tf.keras.layers.Concatenate()([user_input, song_input])"
      ],
      "metadata": {
        "id": "dKj2j5VV2NLy"
      },
      "execution_count": null,
      "outputs": []
    },
    {
      "cell_type": "code",
      "source": [
        "# Add dense layers with dropout\n",
        "dense1 = tf.keras.layers.Dense(units=64, activation='relu')(input_embeddings)\n",
        "dropout1 = tf.keras.layers.Dropout(rate=0.2)(dense1)\n",
        "dense2 = tf.keras.layers.Dense(units=32, activation='relu')(dropout1)\n",
        "dropout2 = tf.keras.layers.Dropout(rate=0.2)(dense2)"
      ],
      "metadata": {
        "id": "Uj9GC9D42NO1"
      },
      "execution_count": null,
      "outputs": []
    },
    {
      "cell_type": "code",
      "source": [
        "# Output layer with linear activation\n",
        "output_layer = tf.keras.layers.Dense(units=1, activation='linear')(dropout2)"
      ],
      "metadata": {
        "id": "KGm_dUTS2Tl4"
      },
      "execution_count": null,
      "outputs": []
    },
    {
      "cell_type": "code",
      "source": [
        "# Create the model\n",
        "model = tf.keras.models.Model(inputs=[user_input, song_input], outputs=output_layer)\n",
        "model.compile(loss='mse', optimizer='adam')"
      ],
      "metadata": {
        "id": "mwrklPz-2TpT"
      },
      "execution_count": null,
      "outputs": []
    },
    {
      "cell_type": "code",
      "source": [
        "# Train the model\n",
        "model.fit([train_data['user_id'], train_data['song_id']], train_data['listen_count'], batch_size=128, epochs=10, verbose=1, validation_data=([val_data['user_id'], val_data['song_id']], val_data['listen_count']))"
      ],
      "metadata": {
        "colab": {
          "base_uri": "https://localhost:8080/"
        },
        "id": "DBC9h4-u1rBP",
        "outputId": "7f2441e7-dfb1-4f84-a8bf-de037deea677"
      },
      "execution_count": null,
      "outputs": [
        {
          "output_type": "stream",
          "name": "stdout",
          "text": [
            "Epoch 1/10\n",
            "302335/302335 [==============================] - 957s 3ms/step - loss: 775416.5000 - val_loss: 50.3196\n",
            "Epoch 2/10\n",
            "302335/302335 [==============================] - 945s 3ms/step - loss: 39.2793 - val_loss: 50.3196\n",
            "Epoch 3/10\n",
            "302335/302335 [==============================] - 924s 3ms/step - loss: 39.2998 - val_loss: 50.3197\n",
            "Epoch 4/10\n",
            "302335/302335 [==============================] - 900s 3ms/step - loss: 39.4061 - val_loss: 50.3202\n",
            "Epoch 5/10\n",
            "302335/302335 [==============================] - 899s 3ms/step - loss: 39.2266 - val_loss: 50.3199\n",
            "Epoch 6/10\n",
            "302335/302335 [==============================] - 858s 3ms/step - loss: 39.2948 - val_loss: 50.3196\n",
            "Epoch 7/10\n",
            "302335/302335 [==============================] - 895s 3ms/step - loss: 39.3009 - val_loss: 50.3197\n",
            "Epoch 8/10\n",
            "302335/302335 [==============================] - 860s 3ms/step - loss: 39.2292 - val_loss: 50.3198\n",
            "Epoch 9/10\n",
            "302335/302335 [==============================] - 922s 3ms/step - loss: 39.2263 - val_loss: 50.3197\n",
            "Epoch 10/10\n",
            "302335/302335 [==============================] - 920s 3ms/step - loss: 39.2371 - val_loss: 50.3199\n"
          ]
        },
        {
          "output_type": "execute_result",
          "data": {
            "text/plain": [
              "<keras.callbacks.History at 0x7f966bb253f0>"
            ]
          },
          "metadata": {},
          "execution_count": 22
        }
      ]
    },
    {
      "cell_type": "code",
      "source": [
        "# Save your model\n",
        "import pickle\n",
        "with open('model.pickle', 'wb') as f:\n",
        "    pickle.dump(model, f)\n"
      ],
      "metadata": {
        "id": "S9wcowHk9jtG"
      },
      "execution_count": null,
      "outputs": []
    },
    {
      "cell_type": "code",
      "source": [
        "with open('model.pickle', 'rb') as f:\n",
        "  model = pickle.load(f)\n"
      ],
      "metadata": {
        "id": "UpOTFAnVmq1m"
      },
      "execution_count": null,
      "outputs": []
    },
    {
      "cell_type": "code",
      "source": [
        "# Evaluate the model on test data\n",
        "test_data = pd.read_csv('/content/drive/MyDrive/train_triplets.txt', header=None, delimiter='\\t')\n"
      ],
      "metadata": {
        "id": "2nwhap9WhlcW"
      },
      "execution_count": null,
      "outputs": []
    },
    {
      "cell_type": "code",
      "source": [
        "test_data = test_data.sample(n=10000, random_state=42,replace = True)\n",
        "test_data.to_csv('train_triplets_small.txt', sep='\\t', index=False, header=False)\n",
        "test_data.columns = ['user_id', 'song_id', 'listen_count']\n",
        "test_data['user_id'] = test_data['user_id'].astype('category').cat.codes.values\n",
        "test_data['song_id'] = test_data['song_id'].astype('category').cat.codes.values\n",
        "y_true = test_data['listen_count']\n",
        "y_pred = model.predict([test_data['user_id'], test_data['song_id']])"
      ],
      "metadata": {
        "colab": {
          "base_uri": "https://localhost:8080/"
        },
        "id": "sd_tkypbUksV",
        "outputId": "1b6623ed-fac8-49f1-e16f-12d4829064d6"
      },
      "execution_count": null,
      "outputs": [
        {
          "output_type": "stream",
          "name": "stdout",
          "text": [
            "313/313 [==============================] - 1s 1ms/step\n"
          ]
        }
      ]
    },
    {
      "cell_type": "code",
      "source": [
        "y_true"
      ],
      "metadata": {
        "colab": {
          "base_uri": "https://localhost:8080/"
        },
        "id": "nGKfFkFboX8w",
        "outputId": "d8c64700-a18c-455b-d129-2e31c213ca9f"
      },
      "execution_count": null,
      "outputs": [
        {
          "output_type": "execute_result",
          "data": {
            "text/plain": [
              "28474248    1\n",
              "7904069     2\n",
              "31087640    2\n",
              "19108564    1\n",
              "9472917     2\n",
              "           ..\n",
              "5301572     1\n",
              "39858177    1\n",
              "40381731    1\n",
              "41096018    1\n",
              "39648899    1\n",
              "Name: listen_count, Length: 10000, dtype: int64"
            ]
          },
          "metadata": {},
          "execution_count": 143
        }
      ]
    },
    {
      "cell_type": "code",
      "source": [
        "from sklearn.metrics import mean_squared_error, mean_absolute_error\n",
        "mae = mean_absolute_error(y_true, y_pred)\n",
        "\n",
        "print(\"MAE:\", mae)"
      ],
      "metadata": {
        "colab": {
          "base_uri": "https://localhost:8080/"
        },
        "id": "ud2X8jIfiCl9",
        "outputId": "e18a3297-e1e4-4db6-b0c7-6bf4c3e72c72"
      },
      "execution_count": null,
      "outputs": [
        {
          "output_type": "stream",
          "name": "stdout",
          "text": [
            "MAE: 2.358693572616577\n"
          ]
        }
      ]
    },
    {
      "cell_type": "code",
      "source": [
        "import matplotlib.pyplot as plt\n",
        "plt.plot(y_true, label='True values')\n",
        "plt.plot(y_pred, label='Predicted values')\n",
        "plt.xlabel('Data points')\n",
        "plt.ylabel('Target values')\n",
        "plt.title('Line plot of true vs predicted values')\n",
        "plt.legend()\n",
        "plt.show()"
      ],
      "metadata": {
        "colab": {
          "base_uri": "https://localhost:8080/",
          "height": 472
        },
        "id": "3IAmEGrul6fs",
        "outputId": "2fe683b3-936d-44df-d0e7-ee60edc2cdaf"
      },
      "execution_count": null,
      "outputs": [
        {
          "output_type": "display_data",
          "data": {
            "text/plain": [
              "<Figure size 640x480 with 1 Axes>"
            ],
            "image/png": "[encoded data removed]"
          },
          "metadata": {}
        }
      ]
    },
    {
      "cell_type": "code",
      "source": [],
      "metadata": {
        "id": "9D6n2HhTpvns"
      },
      "execution_count": null,
      "outputs": []
    },
    {
      "cell_type": "code",
      "source": [
        "# Get all unique song IDs\n",
        "all_song_ids = df.song_id.unique()"
      ],
      "metadata": {
        "id": "G0ExvToxyrMA"
      },
      "execution_count": null,
      "outputs": []
    },
    {
      "cell_type": "code",
      "source": [
        "# Select a sample user ID to generate recommendations for\n",
        "sample_user_id = 3574\n",
        "user_ids = np.array([sample_user_id] * len(all_song_ids))"
      ],
      "metadata": {
        "id": "p-QZScueiur2"
      },
      "execution_count": null,
      "outputs": []
    },
    {
      "cell_type": "code",
      "source": [
        "# Predict the listen count for all songs for the selected user\n",
        "predicted_listen_count = model.predict([user_ids, all_song_ids])"
      ],
      "metadata": {
        "colab": {
          "base_uri": "https://localhost:8080/"
        },
        "id": "Yf4bW4fMbrjI",
        "outputId": "1dacb33f-86ea-4abc-bf5e-639ccc3b209c"
      },
      "execution_count": null,
      "outputs": [
        {
          "output_type": "stream",
          "name": "stdout",
          "text": [
            "12018/12018 [==============================] - 22s 2ms/step\n"
          ]
        }
      ]
    },
    {
      "cell_type": "code",
      "source": [
        "# Get the indices that would sort the predicted listen count in descending order\n",
        "sorted_indices = np.argsort(predicted_listen_count, axis=0)[::-1]"
      ],
      "metadata": {
        "id": "9innugD0b8Yl"
      },
      "execution_count": null,
      "outputs": []
    },
    {
      "cell_type": "code",
      "source": [
        "# Get the top N recommended songs\n",
        "top_n = 10\n",
        "print(all_song_ids)\n",
        "recommended_songs = all_song_ids[sorted_indices[:top_n]]"
      ],
      "metadata": {
        "colab": {
          "base_uri": "https://localhost:8080/"
        },
        "id": "i-LOMkiEb_t_",
        "outputId": "ac19b36d-860d-41c5-cd4d-5de6907c7fda"
      },
      "execution_count": null,
      "outputs": [
        {
          "output_type": "stream",
          "name": "stdout",
          "text": [
            "[  6347   9365  16962 ... 312844 168490  34337]\n"
          ]
        }
      ]
    },
    {
      "cell_type": "code",
      "source": [
        "# Print the recommended songs\n",
        "print(recommended_songs)"
      ],
      "metadata": {
        "colab": {
          "base_uri": "https://localhost:8080/"
        },
        "id": "5RwdDsn1VV6C",
        "outputId": "f21c649c-9a7d-4a01-ae25-0d6c6b99533c"
      },
      "execution_count": null,
      "outputs": [
        {
          "output_type": "stream",
          "name": "stdout",
          "text": [
            "[[ 34337]\n",
            " [326273]\n",
            " [300462]\n",
            " [304640]\n",
            " [310966]\n",
            " [311612]\n",
            " [313774]\n",
            " [314016]\n",
            " [318762]\n",
            " [321540]]\n"
          ]
        }
      ]
    },
    {
      "cell_type": "code",
      "source": [],
      "metadata": {
        "id": "LVipZzhPlMPx"
      },
      "execution_count": null,
      "outputs": []
    }
  ]
}